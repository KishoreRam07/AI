{
 "cells": [
  {
   "cell_type": "code",
   "execution_count": 13,
   "id": "f24c0454-e6af-4dc2-ba99-e8df948ea38f",
   "metadata": {},
   "outputs": [
    {
     "name": "stdin",
     "output_type": "stream",
     "text": [
      "enter depth limit: 2\n"
     ]
    },
    {
     "name": "stdout",
     "output_type": "stream",
     "text": [
      "S A C D B I J depth is not sufficient or node not found\n"
     ]
    }
   ],
   "source": [
    "#recursive dls\n",
    "def dls(graph,start,goal):\n",
    "    def recursive_dls(node,goal,depth,limit,visited):\n",
    "        \n",
    "        print(node,end=\" \")\n",
    "        if node==goal:\n",
    "            return True\n",
    "        if depth>=limit:\n",
    "            return False\n",
    "        visited.add(node)\n",
    "        for neighbor in graph.get(node,[]):\n",
    "            if neighbor not in visited:\n",
    "                if recursive_dls(neighbor,goal,depth+1,limit,visited):\n",
    "                    return True\n",
    "        return False\n",
    "\n",
    "\n",
    "\n",
    "    visited=set()\n",
    "    limit=int(input(\"enter depth limit:\"))\n",
    "    found=recursive_dls(start,goal,0,limit,visited)\n",
    "    if found:\n",
    "        print(\"goal found traverse ends!\")\n",
    "    else:\n",
    "        print(\"depth is not sufficient or node not found\")\n",
    "\n",
    "\n",
    "graph={\n",
    "    'S':['A','B'],\n",
    "    'A':['C','D'],\n",
    "    'B':['I','J'],\n",
    "    'C':['E','F'],\n",
    "    'D':['G'],\n",
    "    'E':[],\n",
    "    'F':[],\n",
    "    'G':[],\n",
    "    'H':[],\n",
    "    'I':['H'],\n",
    "    'J':[]\n",
    "}\n",
    "start=\"S\"\n",
    "goal=\"G\"\n",
    "dls(graph,start,goal)"
   ]
  },
  {
   "cell_type": "code",
   "execution_count": null,
   "id": "a0cde456-9815-46c7-8038-359c69f1914e",
   "metadata": {},
   "outputs": [],
   "source": []
  }
 ],
 "metadata": {
  "kernelspec": {
   "display_name": "Python 3 (ipykernel)",
   "language": "python",
   "name": "python3"
  },
  "language_info": {
   "codemirror_mode": {
    "name": "ipython",
    "version": 3
   },
   "file_extension": ".py",
   "mimetype": "text/x-python",
   "name": "python",
   "nbconvert_exporter": "python",
   "pygments_lexer": "ipython3",
   "version": "3.12.4"
  }
 },
 "nbformat": 4,
 "nbformat_minor": 5
}
