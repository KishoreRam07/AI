{
 "cells": [
  {
   "cell_type": "code",
   "execution_count": 28,
   "id": "a49ff525-5551-4952-8308-c1393dc3b4e1",
   "metadata": {},
   "outputs": [
    {
     "name": "stdout",
     "output_type": "stream",
     "text": [
      "path found: ['S', 'D', 'E', 'F', 'G']\n",
      "Cost required: 13.5\n"
     ]
    }
   ],
   "source": [
    "import heapq  \n",
    "\n",
    "\n",
    "def a_star(start,goal,graph,heuristic):\n",
    "    open_set=[(heuristic[start],0,start,[start])]\n",
    "    visited=set()\n",
    "    while open_set:\n",
    "        f,g,node,path=heapq.heappop(open_set)\n",
    "        if node==goal:\n",
    "            return path,f\n",
    "        if node in visited:\n",
    "            continue\n",
    "        visited.add(node)\n",
    "        for neighbor,cost in graph[node].items():\n",
    "            if neighbor not in visited:\n",
    "                g_new=g+cost\n",
    "                f_new=heuristic[neighbor]+g_new\n",
    "                heapq.heappush(open_set,(f_new,g_new,neighbor,path+[neighbor]))\n",
    "    return None,0\n",
    "graph={\n",
    "    'S':{'A':3,'D':4},\n",
    "    'A':{'S':3,'D':5,'B':4},\n",
    "    'B':{'A':4,'C':4,'E':5},\n",
    "    'C':{'B':4},\n",
    "    'D':{'A':5,'S':4,'E':2},\n",
    "    'E':{'B':5,'D':2,'F':4},\n",
    "    'F':{'E':4,'G':3.5},\n",
    "    'G':{}\n",
    "}\n",
    "heuristic={\n",
    "    'A':10.1,\n",
    "    'B':5.8,\n",
    "    'C':3.4,\n",
    "    'D':9.2,\n",
    "    'E':7.1,\n",
    "    'F':3.5,\n",
    "    'G':0,\n",
    "    'S':11.5\n",
    "}\n",
    "start,goal='S','G'\n",
    "path,cost=a_star(start,goal,graph,heuristic)\n",
    "print('path found:',path)\n",
    "print('Cost required:',cost)"
   ]
  },
  {
   "cell_type": "code",
   "execution_count": null,
   "id": "cac597d2-2b7e-462c-9a03-cfd51b5697ed",
   "metadata": {},
   "outputs": [],
   "source": []
  }
 ],
 "metadata": {
  "kernelspec": {
   "display_name": "Python 3 (ipykernel)",
   "language": "python",
   "name": "python3"
  },
  "language_info": {
   "codemirror_mode": {
    "name": "ipython",
    "version": 3
   },
   "file_extension": ".py",
   "mimetype": "text/x-python",
   "name": "python",
   "nbconvert_exporter": "python",
   "pygments_lexer": "ipython3",
   "version": "3.11.4"
  }
 },
 "nbformat": 4,
 "nbformat_minor": 5
}
