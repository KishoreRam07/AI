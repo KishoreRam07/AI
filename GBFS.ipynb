{
 "cells": [
  {
   "cell_type": "code",
   "execution_count": 12,
   "id": "28398bc1-5dd8-4d17-8b0c-46ef96305077",
   "metadata": {},
   "outputs": [
    {
     "name": "stdout",
     "output_type": "stream",
     "text": [
      "path: S-->B-->F-->G\n",
      "cost: 6\n",
      "0\n",
      "G\n"
     ]
    }
   ],
   "source": [
    "#greedy Best first search\n",
    "import queue\n",
    "graph={\n",
    "    'S':[('A',2),('B',1)],\n",
    "    'A':[('C',4),('D',2)],\n",
    "    'B':[('E',1),('F',4)],\n",
    "    'C':[],\n",
    "    'D':[],\n",
    "    'E':[('H',5)],\n",
    "    'F':[('I',2),('G',3)],\n",
    "    'G':[],\n",
    "    'H':[],\n",
    "    'I':[]\n",
    "}\n",
    "heuristic={\n",
    "    'S':13,'A':12,'B':4,'C':7,'D':3,'E':8,'F':2,'G':0,'H':2,'I':0\n",
    "}\n",
    "\n",
    "def gbfs(start,goal):\n",
    "    visited=set()\n",
    "    pq=queue.PriorityQueue()\n",
    "    pq.put((heuristic[start],start,[start],0))\n",
    "    while not pq.empty():\n",
    "        h,node,path,cost=pq.get()\n",
    "       \n",
    "        if node==goal:\n",
    "            print('path:','-->'.join(path))\n",
    "            print('cost:',cost)\n",
    "            print(h)\n",
    "            print(node)\n",
    "            return\n",
    "        visited.add(node)\n",
    "        for neighbor,edge_cost in graph[node]:\n",
    "            if neighbor not in visited:\n",
    "                pq.put((heuristic[neighbor],neighbor,path+[neighbor],cost+heuristic[neighbor]))\n",
    "gbfs('S','G')"
   ]
  },
  {
   "cell_type": "code",
   "execution_count": null,
   "id": "bafcdc90-46a8-4fd3-9a0d-ca01b9087a3c",
   "metadata": {},
   "outputs": [],
   "source": []
  }
 ],
 "metadata": {
  "kernelspec": {
   "display_name": "Python 3 (ipykernel)",
   "language": "python",
   "name": "python3"
  },
  "language_info": {
   "codemirror_mode": {
    "name": "ipython",
    "version": 3
   },
   "file_extension": ".py",
   "mimetype": "text/x-python",
   "name": "python",
   "nbconvert_exporter": "python",
   "pygments_lexer": "ipython3",
   "version": "3.11.4"
  }
 },
 "nbformat": 4,
 "nbformat_minor": 5
}
